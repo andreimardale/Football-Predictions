{
 "cells": [
  {
   "cell_type": "code",
   "execution_count": 1,
   "metadata": {},
   "outputs": [],
   "source": [
    "import numpy as np\n",
    "import pandas as pd\n",
    "\n",
    "pd.set_option('display.max_rows', 500)\n",
    "pd.set_option('display.max_columns', 500)\n",
    "pd.set_option('display.width', 1000)"
   ]
  },
  {
   "cell_type": "code",
   "execution_count": 3,
   "metadata": {},
   "outputs": [],
   "source": [
    "input_df = pd.read_csv(\"tati_pariuri_actualizat.csv\")"
   ]
  },
  {
   "cell_type": "code",
   "execution_count": 4,
   "metadata": {},
   "outputs": [],
   "source": [
    "input_df = input_df.replace('DANIEL PETERSE', 'DANIEL PEDERSEN')\n",
    "input_df = input_df.replace('TOBIAS PETERSEN', 'TOBIAS PEDERSEN')"
   ]
  },
  {
   "cell_type": "code",
   "execution_count": null,
   "metadata": {},
   "outputs": [],
   "source": [
    "#input_df = input_df.drop([1464])"
   ]
  },
  {
   "cell_type": "code",
   "execution_count": 7,
   "metadata": {},
   "outputs": [
    {
     "data": {
      "text/plain": [
       "(4973, 27)"
      ]
     },
     "execution_count": 7,
     "metadata": {},
     "output_type": "execute_result"
    }
   ],
   "source": [
    "input_df.shape"
   ]
  },
  {
   "cell_type": "code",
   "execution_count": null,
   "metadata": {},
   "outputs": [],
   "source": []
  },
  {
   "cell_type": "code",
   "execution_count": 12,
   "metadata": {},
   "outputs": [],
   "source": [
    "tmp_df = input_df.groupby(['DATA', 'CINE', 'CAMP']).count()"
   ]
  },
  {
   "cell_type": "code",
   "execution_count": 23,
   "metadata": {
    "scrolled": true
   },
   "outputs": [
    {
     "data": {
      "text/plain": [
       "(0, 24)"
      ]
     },
     "execution_count": 23,
     "metadata": {},
     "output_type": "execute_result"
    }
   ],
   "source": [
    "tmp_df[tmp_df.U1 != 2].shape"
   ]
  },
  {
   "cell_type": "code",
   "execution_count": 15,
   "metadata": {},
   "outputs": [],
   "source": [
    "tmp_df = tmp_df[tmp_df.U1 == 2]"
   ]
  },
  {
   "cell_type": "code",
   "execution_count": 16,
   "metadata": {},
   "outputs": [],
   "source": [
    "merged_df = []\n",
    "\n",
    "for i in tmp_df.index:\n",
    "    idf = input_df[(input_df.DATA == i[0]) & (input_df.CINE == i[1]) & (input_df.CAMP == i[2])]\n",
    "    \n",
    "    if pd.isna(idf.iloc[0].GAZDE):\n",
    "        dest = idf.iloc[1].copy()\n",
    "        source = idf.iloc[0].copy()\n",
    "    else:\n",
    "        dest = idf.iloc[0].copy()\n",
    "        source = idf.iloc[1].copy()\n",
    "    \n",
    "    dest['LOC_home'] = source['LOC']\n",
    "    dest['ZI_home'] = source['ZI'] \n",
    "    dest['U1_home'] = source['U1'] \n",
    "    dest['U2_home'] = source['U2'] \n",
    "    dest['U3_home'] = source['U3'] \n",
    "    dest['U4_home'] = source['U4'] \n",
    "    dest['U5_home'] = source['U5'] \n",
    "    \n",
    "    \n",
    "    dest['LOC.1_away'] = source['LOC.1'] \n",
    "    dest['ZI.1_away'] = source['ZI.1'] \n",
    "    dest['U1.1_away'] = source['U1.1'] \n",
    "    dest['U2.1_away'] = source['U2.1'] \n",
    "    dest['U3.1_away'] = source['U3.1'] \n",
    "    dest['U4.1_away'] = source['U4.1'] \n",
    "    dest['U5.1_away'] = source['U5.1'] \n",
    "\n",
    "\n",
    "    merged_df.append(dest)\n",
    "\n",
    "    "
   ]
  },
  {
   "cell_type": "code",
   "execution_count": 17,
   "metadata": {},
   "outputs": [],
   "source": [
    "merged = pd.DataFrame(np.array(merged_df))"
   ]
  },
  {
   "cell_type": "code",
   "execution_count": 18,
   "metadata": {},
   "outputs": [],
   "source": [
    "merged.columns = merged_df[0].index"
   ]
  },
  {
   "cell_type": "code",
   "execution_count": null,
   "metadata": {},
   "outputs": [],
   "source": []
  },
  {
   "cell_type": "code",
   "execution_count": 19,
   "metadata": {},
   "outputs": [],
   "source": [
    "merged.to_csv('preprocessed_data.csv')"
   ]
  },
  {
   "cell_type": "code",
   "execution_count": null,
   "metadata": {},
   "outputs": [],
   "source": [
    "merged = pd.read_csv(\"preprocessed_data.csv\")"
   ]
  },
  {
   "cell_type": "code",
   "execution_count": 29,
   "metadata": {},
   "outputs": [
    {
     "data": {
      "text/html": [
       "<div>\n",
       "<style scoped>\n",
       "    .dataframe tbody tr th:only-of-type {\n",
       "        vertical-align: middle;\n",
       "    }\n",
       "\n",
       "    .dataframe tbody tr th {\n",
       "        vertical-align: top;\n",
       "    }\n",
       "\n",
       "    .dataframe thead th {\n",
       "        text-align: right;\n",
       "    }\n",
       "</style>\n",
       "<table border=\"1\" class=\"dataframe\">\n",
       "  <thead>\n",
       "    <tr style=\"text-align: right;\">\n",
       "      <th></th>\n",
       "      <th>DATA</th>\n",
       "      <th>TIP TIPSTER</th>\n",
       "      <th>ora</th>\n",
       "      <th>COTA</th>\n",
       "      <th>CINE</th>\n",
       "      <th>CAMP</th>\n",
       "      <th>GAZDE</th>\n",
       "      <th>G_LOC_TOTAL</th>\n",
       "      <th>G_ZI_TOTAL</th>\n",
       "      <th>G_U1_TOTAL</th>\n",
       "      <th>G_U2_TOTAL</th>\n",
       "      <th>G_U3_TOTAL</th>\n",
       "      <th>G_U4_TOTAL</th>\n",
       "      <th>G_U5_TOTAL</th>\n",
       "      <th>OASPETI</th>\n",
       "      <th>O_LOC_TOTAL</th>\n",
       "      <th>O_ZI_TOTAL</th>\n",
       "      <th>O_U1_TOTAL</th>\n",
       "      <th>O_U2_TOTAL</th>\n",
       "      <th>O_U3_TOTAL</th>\n",
       "      <th>O_U4_TOTAL</th>\n",
       "      <th>O_U5_TOTAL</th>\n",
       "      <th>1COTA</th>\n",
       "      <th>XCOTA</th>\n",
       "      <th>2COTA</th>\n",
       "      <th>SCOR</th>\n",
       "      <th>PAUZA</th>\n",
       "      <th>G_LOC_ACASA</th>\n",
       "      <th>G_ZI_ACASA</th>\n",
       "      <th>G_U1_ACASA</th>\n",
       "      <th>G_U2_ACASA</th>\n",
       "      <th>G_U3_ACASA</th>\n",
       "      <th>G_U4_ACASA</th>\n",
       "      <th>G_U5_ACASA</th>\n",
       "      <th>O_LOC_DEPL</th>\n",
       "      <th>O_ZI_DEPL</th>\n",
       "      <th>O_U1_DEPL</th>\n",
       "      <th>O_U2_DEPL</th>\n",
       "      <th>O_U3_DEPL</th>\n",
       "      <th>O_U4_DEPL</th>\n",
       "      <th>O_U5_DEPL</th>\n",
       "    </tr>\n",
       "  </thead>\n",
       "  <tbody>\n",
       "    <tr>\n",
       "      <th>0</th>\n",
       "      <td>1/29/2021</td>\n",
       "      <td>NaN</td>\n",
       "      <td>NaN</td>\n",
       "      <td>X</td>\n",
       "      <td>ANDREAS FLEICHER</td>\n",
       "      <td>TC1</td>\n",
       "      <td>YENI MALATA</td>\n",
       "      <td>9</td>\n",
       "      <td>E</td>\n",
       "      <td>I</td>\n",
       "      <td>V</td>\n",
       "      <td>V</td>\n",
       "      <td>I</td>\n",
       "      <td>E</td>\n",
       "      <td>KARAMGIURUK</td>\n",
       "      <td>8</td>\n",
       "      <td>E</td>\n",
       "      <td>V</td>\n",
       "      <td>I</td>\n",
       "      <td>V</td>\n",
       "      <td>V</td>\n",
       "      <td>I</td>\n",
       "      <td>2.2</td>\n",
       "      <td>3.5</td>\n",
       "      <td>3.2</td>\n",
       "      <td>0.-0</td>\n",
       "      <td>0.-0</td>\n",
       "      <td>8</td>\n",
       "      <td>E</td>\n",
       "      <td>I</td>\n",
       "      <td>V</td>\n",
       "      <td>E</td>\n",
       "      <td>I</td>\n",
       "      <td>V</td>\n",
       "      <td>11</td>\n",
       "      <td>E</td>\n",
       "      <td>V</td>\n",
       "      <td>V</td>\n",
       "      <td>I</td>\n",
       "      <td>E</td>\n",
       "      <td>I</td>\n",
       "    </tr>\n",
       "    <tr>\n",
       "      <th>1</th>\n",
       "      <td>1/29/2021</td>\n",
       "      <td>NaN</td>\n",
       "      <td>NaN</td>\n",
       "      <td>1</td>\n",
       "      <td>ARIOSTO CREMONESI</td>\n",
       "      <td>EN2</td>\n",
       "      <td>READING</td>\n",
       "      <td>5</td>\n",
       "      <td>V</td>\n",
       "      <td>E</td>\n",
       "      <td>V</td>\n",
       "      <td>V</td>\n",
       "      <td>E</td>\n",
       "      <td>V</td>\n",
       "      <td>BOURNEMOUTH</td>\n",
       "      <td>6</td>\n",
       "      <td>I</td>\n",
       "      <td>I</td>\n",
       "      <td>I</td>\n",
       "      <td>E</td>\n",
       "      <td>V</td>\n",
       "      <td>I</td>\n",
       "      <td>3.25</td>\n",
       "      <td>3.25</td>\n",
       "      <td>2.3</td>\n",
       "      <td>3.-1</td>\n",
       "      <td>3.-0</td>\n",
       "      <td>5</td>\n",
       "      <td>V</td>\n",
       "      <td>V</td>\n",
       "      <td>V</td>\n",
       "      <td>I</td>\n",
       "      <td>I</td>\n",
       "      <td>V</td>\n",
       "      <td>8</td>\n",
       "      <td>I</td>\n",
       "      <td>I</td>\n",
       "      <td>V</td>\n",
       "      <td>I</td>\n",
       "      <td>E</td>\n",
       "      <td>E</td>\n",
       "    </tr>\n",
       "    <tr>\n",
       "      <th>2</th>\n",
       "      <td>1/29/2021</td>\n",
       "      <td>NaN</td>\n",
       "      <td>NaN</td>\n",
       "      <td>2</td>\n",
       "      <td>DIRK PETERS</td>\n",
       "      <td>SP1</td>\n",
       "      <td>VALADOLID</td>\n",
       "      <td>16</td>\n",
       "      <td>I</td>\n",
       "      <td>E</td>\n",
       "      <td>E</td>\n",
       "      <td>I</td>\n",
       "      <td>V</td>\n",
       "      <td>E</td>\n",
       "      <td>HUESCA</td>\n",
       "      <td>20</td>\n",
       "      <td>V</td>\n",
       "      <td>E</td>\n",
       "      <td>I</td>\n",
       "      <td>I</td>\n",
       "      <td>I</td>\n",
       "      <td>I</td>\n",
       "      <td>2.4</td>\n",
       "      <td>3.15</td>\n",
       "      <td>3.25</td>\n",
       "      <td>1.-3</td>\n",
       "      <td>0.-1</td>\n",
       "      <td>16</td>\n",
       "      <td>I</td>\n",
       "      <td>E</td>\n",
       "      <td>I</td>\n",
       "      <td>I</td>\n",
       "      <td>V</td>\n",
       "      <td>E</td>\n",
       "      <td>20</td>\n",
       "      <td>V</td>\n",
       "      <td>I</td>\n",
       "      <td>I</td>\n",
       "      <td>I</td>\n",
       "      <td>E</td>\n",
       "      <td>E</td>\n",
       "    </tr>\n",
       "    <tr>\n",
       "      <th>3</th>\n",
       "      <td>1/29/2021</td>\n",
       "      <td>NaN</td>\n",
       "      <td>NaN</td>\n",
       "      <td>1</td>\n",
       "      <td>ELIA YAZANDA</td>\n",
       "      <td>SP2</td>\n",
       "      <td>REAL ZARAGOZA</td>\n",
       "      <td>20</td>\n",
       "      <td>V</td>\n",
       "      <td>I</td>\n",
       "      <td>V</td>\n",
       "      <td>E</td>\n",
       "      <td>V</td>\n",
       "      <td>I</td>\n",
       "      <td>PONFERADINA</td>\n",
       "      <td>7</td>\n",
       "      <td>I</td>\n",
       "      <td>V</td>\n",
       "      <td>E</td>\n",
       "      <td>I</td>\n",
       "      <td>V</td>\n",
       "      <td>I</td>\n",
       "      <td>2</td>\n",
       "      <td>3.2</td>\n",
       "      <td>3.7</td>\n",
       "      <td>1.-0</td>\n",
       "      <td>1.-0</td>\n",
       "      <td>13</td>\n",
       "      <td>V</td>\n",
       "      <td>V</td>\n",
       "      <td>V</td>\n",
       "      <td>V</td>\n",
       "      <td>I</td>\n",
       "      <td>I</td>\n",
       "      <td>6</td>\n",
       "      <td>I</td>\n",
       "      <td>V</td>\n",
       "      <td>I</td>\n",
       "      <td>I</td>\n",
       "      <td>V</td>\n",
       "      <td>E</td>\n",
       "    </tr>\n",
       "    <tr>\n",
       "      <th>4</th>\n",
       "      <td>1/29/2021</td>\n",
       "      <td>NaN</td>\n",
       "      <td>NaN</td>\n",
       "      <td>2</td>\n",
       "      <td>HEIKI LAURILA</td>\n",
       "      <td>CHI</td>\n",
       "      <td>COQINBO</td>\n",
       "      <td>18</td>\n",
       "      <td>I</td>\n",
       "      <td>V</td>\n",
       "      <td>I</td>\n",
       "      <td>E</td>\n",
       "      <td>V</td>\n",
       "      <td>I</td>\n",
       "      <td>UNIV CHILE</td>\n",
       "      <td>7</td>\n",
       "      <td>V</td>\n",
       "      <td>E</td>\n",
       "      <td>E</td>\n",
       "      <td>E</td>\n",
       "      <td>I</td>\n",
       "      <td>V</td>\n",
       "      <td>3.2</td>\n",
       "      <td>3.3</td>\n",
       "      <td>2.3</td>\n",
       "      <td>0.-1</td>\n",
       "      <td>0.-0</td>\n",
       "      <td>17</td>\n",
       "      <td>I</td>\n",
       "      <td>E</td>\n",
       "      <td>I</td>\n",
       "      <td>I</td>\n",
       "      <td>I</td>\n",
       "      <td>V</td>\n",
       "      <td>9</td>\n",
       "      <td>V</td>\n",
       "      <td>E</td>\n",
       "      <td>I</td>\n",
       "      <td>E</td>\n",
       "      <td>V</td>\n",
       "      <td>E</td>\n",
       "    </tr>\n",
       "  </tbody>\n",
       "</table>\n",
       "</div>"
      ],
      "text/plain": [
       "        DATA TIP TIPSTER  ora COTA               CINE CAMP          GAZDE G_LOC_TOTAL G_ZI_TOTAL G_U1_TOTAL G_U2_TOTAL G_U3_TOTAL G_U4_TOTAL G_U5_TOTAL      OASPETI O_LOC_TOTAL O_ZI_TOTAL O_U1_TOTAL O_U2_TOTAL O_U3_TOTAL O_U4_TOTAL O_U5_TOTAL 1COTA XCOTA 2COTA  SCOR PAUZA G_LOC_ACASA G_ZI_ACASA G_U1_ACASA G_U2_ACASA G_U3_ACASA G_U4_ACASA G_U5_ACASA O_LOC_DEPL O_ZI_DEPL O_U1_DEPL O_U2_DEPL O_U3_DEPL O_U4_DEPL O_U5_DEPL\n",
       "0  1/29/2021         NaN  NaN    X   ANDREAS FLEICHER  TC1    YENI MALATA           9          E          I          V          V          I          E  KARAMGIURUK           8          E          V          I          V          V          I   2.2   3.5   3.2  0.-0  0.-0           8          E          I          V          E          I          V         11         E         V         V         I         E         I\n",
       "1  1/29/2021         NaN  NaN    1  ARIOSTO CREMONESI  EN2        READING           5          V          E          V          V          E          V  BOURNEMOUTH           6          I          I          I          E          V          I  3.25  3.25   2.3  3.-1  3.-0           5          V          V          V          I          I          V          8         I         I         V         I         E         E\n",
       "2  1/29/2021         NaN  NaN    2        DIRK PETERS  SP1      VALADOLID          16          I          E          E          I          V          E       HUESCA          20          V          E          I          I          I          I   2.4  3.15  3.25  1.-3  0.-1          16          I          E          I          I          V          E         20         V         I         I         I         E         E\n",
       "3  1/29/2021         NaN  NaN    1       ELIA YAZANDA  SP2  REAL ZARAGOZA          20          V          I          V          E          V          I  PONFERADINA           7          I          V          E          I          V          I     2   3.2   3.7  1.-0  1.-0          13          V          V          V          V          I          I          6         I         V         I         I         V         E\n",
       "4  1/29/2021         NaN  NaN    2      HEIKI LAURILA  CHI        COQINBO          18          I          V          I          E          V          I   UNIV CHILE           7          V          E          E          E          I          V   3.2   3.3   2.3  0.-1  0.-0          17          I          E          I          I          I          V          9         V         E         I         E         V         E"
      ]
     },
     "execution_count": 29,
     "metadata": {},
     "output_type": "execute_result"
    }
   ],
   "source": [
    "merged.head()"
   ]
  },
  {
   "cell_type": "code",
   "execution_count": 27,
   "metadata": {},
   "outputs": [],
   "source": [
    "merged = merged.rename(columns={\"LOC\":\"G_LOC_TOTAL\", \"ZI\": \"G_ZI_TOTAL\", \"U1\": \"G_U1_TOTAL\", \"U2\":\"G_U2_TOTAL\", \"U3\":\"G_U3_TOTAL\", \"U4\":\"G_U4_TOTAL\", \"U5\":\"G_U5_TOTAL\",\n",
    "                       \"LOC.1\":\"O_LOC_TOTAL\", \"ZI.1\":\"O_ZI_TOTAL\", \"U1.1\":\"O_U1_TOTAL\", \"U2.1\":\"O_U2_TOTAL\", \"U3.1\":\"O_U3_TOTAL\", \"U4.1\":\"O_U4_TOTAL\", \"U5.1\":\"O_U5_TOTAL\",\n",
    "                       \"LOC_home\":\"G_LOC_ACASA\", \"ZI_home\":\"G_ZI_ACASA\", \"U1_home\":\"G_U1_ACASA\", \"U2_home\":\"G_U2_ACASA\", \"U3_home\":\"G_U3_ACASA\", \"U4_home\":\"G_U4_ACASA\", \"U5_home\":\"G_U5_ACASA\",\n",
    "                       \"LOC.1_away\":\"O_LOC_DEPL\", \"ZI.1_away\":\"O_ZI_DEPL\", \"U1.1_away\":\"O_U1_DEPL\", \"U2.1_away\":\"O_U2_DEPL\", \"U3.1_away\":\"O_U3_DEPL\", \"U4.1_away\":\"O_U4_DEPL\", \"U5.1_away\":\"O_U5_DEPL\"\n",
    "                      })"
   ]
  },
  {
   "cell_type": "code",
   "execution_count": 28,
   "metadata": {},
   "outputs": [],
   "source": [
    "merged.to_csv('preprocessed_data.csv')"
   ]
  },
  {
   "cell_type": "code",
   "execution_count": 4,
   "metadata": {},
   "outputs": [],
   "source": [
    "merged = pd.read_csv('prep_data_input.csv')"
   ]
  },
  {
   "cell_type": "markdown",
   "metadata": {},
   "source": [
    "# Computing distance between historical results"
   ]
  },
  {
   "cell_type": "code",
   "execution_count": 32,
   "metadata": {},
   "outputs": [],
   "source": [
    "Y = merged[[\n",
    "    'G_U1_TOTAL', 'G_U2_TOTAL', 'G_U3_TOTAL', 'G_U4_TOTAL', 'G_U5_TOTAL',\n",
    "    'O_U1_TOTAL', 'O_U2_TOTAL', 'O_U3_TOTAL', 'O_U4_TOTAL', 'O_U5_TOTAL',\n",
    "    'G_U1_ACASA', 'G_U2_ACASA', 'G_U3_ACASA', 'G_U4_ACASA', 'G_U5_ACASA',\n",
    "    'O_U1_DEPL', 'O_U2_DEPL', 'O_U3_DEPL', 'O_U4_DEPL', 'O_U5_DEPL']].fillna('NAN').values"
   ]
  },
  {
   "cell_type": "code",
   "execution_count": 33,
   "metadata": {},
   "outputs": [],
   "source": [
    "Y_arr = pd.DataFrame(Y.reshape(-1), columns=['result'])"
   ]
  },
  {
   "cell_type": "code",
   "execution_count": 34,
   "metadata": {},
   "outputs": [],
   "source": [
    "Y_arr = Y_arr.replace('ABANDON', 'AB')"
   ]
  },
  {
   "cell_type": "code",
   "execution_count": 37,
   "metadata": {},
   "outputs": [],
   "source": [
    "from sklearn.preprocessing import LabelEncoder\n",
    "# creating instance of labelencoder\n",
    "labelencoder = LabelEncoder()\n",
    "# Assigning numerical values and storing in another column\n",
    "Y_arr['result_Cat'] = labelencoder.fit_transform(Y_arr['result'])\n"
   ]
  },
  {
   "cell_type": "code",
   "execution_count": 38,
   "metadata": {},
   "outputs": [],
   "source": [
    "from sklearn.preprocessing import OneHotEncoder\n",
    "\n",
    "# creating instance of one-hot-encoder\n",
    "enc = OneHotEncoder(handle_unknown='ignore')\n",
    "# passing bridge-types-cat column (label encoded values of bridge_types)\n",
    "enc_df = pd.DataFrame(enc.fit_transform(Y_arr[['result_Cat']]).toarray())\n",
    "# merge with main df bridge_df on key values\n",
    "Y_arr = Y_arr.join(enc_df)\n"
   ]
  },
  {
   "cell_type": "code",
   "execution_count": 39,
   "metadata": {
    "scrolled": true
   },
   "outputs": [
    {
     "data": {
      "text/html": [
       "<div>\n",
       "<style scoped>\n",
       "    .dataframe tbody tr th:only-of-type {\n",
       "        vertical-align: middle;\n",
       "    }\n",
       "\n",
       "    .dataframe tbody tr th {\n",
       "        vertical-align: top;\n",
       "    }\n",
       "\n",
       "    .dataframe thead th {\n",
       "        text-align: right;\n",
       "    }\n",
       "</style>\n",
       "<table border=\"1\" class=\"dataframe\">\n",
       "  <thead>\n",
       "    <tr style=\"text-align: right;\">\n",
       "      <th></th>\n",
       "      <th>0</th>\n",
       "      <th>1</th>\n",
       "      <th>2</th>\n",
       "      <th>3</th>\n",
       "      <th>4</th>\n",
       "    </tr>\n",
       "  </thead>\n",
       "  <tbody>\n",
       "    <tr>\n",
       "      <th>0</th>\n",
       "      <td>0.0</td>\n",
       "      <td>0.0</td>\n",
       "      <td>1.0</td>\n",
       "      <td>0.0</td>\n",
       "      <td>0.0</td>\n",
       "    </tr>\n",
       "    <tr>\n",
       "      <th>1</th>\n",
       "      <td>0.0</td>\n",
       "      <td>0.0</td>\n",
       "      <td>0.0</td>\n",
       "      <td>0.0</td>\n",
       "      <td>1.0</td>\n",
       "    </tr>\n",
       "    <tr>\n",
       "      <th>2</th>\n",
       "      <td>0.0</td>\n",
       "      <td>0.0</td>\n",
       "      <td>0.0</td>\n",
       "      <td>0.0</td>\n",
       "      <td>1.0</td>\n",
       "    </tr>\n",
       "    <tr>\n",
       "      <th>3</th>\n",
       "      <td>0.0</td>\n",
       "      <td>0.0</td>\n",
       "      <td>1.0</td>\n",
       "      <td>0.0</td>\n",
       "      <td>0.0</td>\n",
       "    </tr>\n",
       "    <tr>\n",
       "      <th>4</th>\n",
       "      <td>0.0</td>\n",
       "      <td>1.0</td>\n",
       "      <td>0.0</td>\n",
       "      <td>0.0</td>\n",
       "      <td>0.0</td>\n",
       "    </tr>\n",
       "    <tr>\n",
       "      <th>...</th>\n",
       "      <td>...</td>\n",
       "      <td>...</td>\n",
       "      <td>...</td>\n",
       "      <td>...</td>\n",
       "      <td>...</td>\n",
       "    </tr>\n",
       "    <tr>\n",
       "      <th>45855</th>\n",
       "      <td>0.0</td>\n",
       "      <td>0.0</td>\n",
       "      <td>1.0</td>\n",
       "      <td>0.0</td>\n",
       "      <td>0.0</td>\n",
       "    </tr>\n",
       "    <tr>\n",
       "      <th>45856</th>\n",
       "      <td>0.0</td>\n",
       "      <td>0.0</td>\n",
       "      <td>1.0</td>\n",
       "      <td>0.0</td>\n",
       "      <td>0.0</td>\n",
       "    </tr>\n",
       "    <tr>\n",
       "      <th>45857</th>\n",
       "      <td>0.0</td>\n",
       "      <td>0.0</td>\n",
       "      <td>0.0</td>\n",
       "      <td>0.0</td>\n",
       "      <td>1.0</td>\n",
       "    </tr>\n",
       "    <tr>\n",
       "      <th>45858</th>\n",
       "      <td>0.0</td>\n",
       "      <td>0.0</td>\n",
       "      <td>0.0</td>\n",
       "      <td>0.0</td>\n",
       "      <td>1.0</td>\n",
       "    </tr>\n",
       "    <tr>\n",
       "      <th>45859</th>\n",
       "      <td>0.0</td>\n",
       "      <td>0.0</td>\n",
       "      <td>1.0</td>\n",
       "      <td>0.0</td>\n",
       "      <td>0.0</td>\n",
       "    </tr>\n",
       "  </tbody>\n",
       "</table>\n",
       "<p>45860 rows × 5 columns</p>\n",
       "</div>"
      ],
      "text/plain": [
       "         0    1    2    3    4\n",
       "0      0.0  0.0  1.0  0.0  0.0\n",
       "1      0.0  0.0  0.0  0.0  1.0\n",
       "2      0.0  0.0  0.0  0.0  1.0\n",
       "3      0.0  0.0  1.0  0.0  0.0\n",
       "4      0.0  1.0  0.0  0.0  0.0\n",
       "...    ...  ...  ...  ...  ...\n",
       "45855  0.0  0.0  1.0  0.0  0.0\n",
       "45856  0.0  0.0  1.0  0.0  0.0\n",
       "45857  0.0  0.0  0.0  0.0  1.0\n",
       "45858  0.0  0.0  0.0  0.0  1.0\n",
       "45859  0.0  0.0  1.0  0.0  0.0\n",
       "\n",
       "[45860 rows x 5 columns]"
      ]
     },
     "execution_count": 39,
     "metadata": {},
     "output_type": "execute_result"
    }
   ],
   "source": [
    "enc_df"
   ]
  },
  {
   "cell_type": "code",
   "execution_count": 40,
   "metadata": {},
   "outputs": [],
   "source": [
    "Y_oh_encoded = enc_df.values.reshape((Y.shape[0],Y.shape[1] * 5))"
   ]
  },
  {
   "cell_type": "code",
   "execution_count": 41,
   "metadata": {},
   "outputs": [
    {
     "data": {
      "text/plain": [
       "array(['V', 'I', 'V', 'I', 'E', 'E', 'V', 'E', 'V', 'E', 'I', 'I', 'V',\n",
       "       'V', 'V', 'E', 'E', 'V', 'I', 'I'], dtype=object)"
      ]
     },
     "execution_count": 41,
     "metadata": {},
     "output_type": "execute_result"
    }
   ],
   "source": [
    "Y[120]"
   ]
  },
  {
   "cell_type": "code",
   "execution_count": 42,
   "metadata": {},
   "outputs": [
    {
     "data": {
      "text/plain": [
       "(2293, 100)"
      ]
     },
     "execution_count": 42,
     "metadata": {},
     "output_type": "execute_result"
    }
   ],
   "source": [
    "Y_oh_encoded.shape"
   ]
  },
  {
   "cell_type": "code",
   "execution_count": 45,
   "metadata": {},
   "outputs": [],
   "source": [
    "from sklearn.metrics.pairwise import cosine_similarity"
   ]
  },
  {
   "cell_type": "code",
   "execution_count": null,
   "metadata": {},
   "outputs": [],
   "source": []
  },
  {
   "cell_type": "code",
   "execution_count": 43,
   "metadata": {},
   "outputs": [],
   "source": [
    "q = Y_oh_encoded[322]"
   ]
  },
  {
   "cell_type": "code",
   "execution_count": 46,
   "metadata": {},
   "outputs": [],
   "source": [
    "rez = cosine_similarity(Y_oh_encoded, [q])"
   ]
  },
  {
   "cell_type": "code",
   "execution_count": 47,
   "metadata": {},
   "outputs": [
    {
     "data": {
      "text/html": [
       "<div>\n",
       "<style scoped>\n",
       "    .dataframe tbody tr th:only-of-type {\n",
       "        vertical-align: middle;\n",
       "    }\n",
       "\n",
       "    .dataframe tbody tr th {\n",
       "        vertical-align: top;\n",
       "    }\n",
       "\n",
       "    .dataframe thead th {\n",
       "        text-align: right;\n",
       "    }\n",
       "</style>\n",
       "<table border=\"1\" class=\"dataframe\">\n",
       "  <thead>\n",
       "    <tr style=\"text-align: right;\">\n",
       "      <th></th>\n",
       "      <th>cosine</th>\n",
       "    </tr>\n",
       "  </thead>\n",
       "  <tbody>\n",
       "    <tr>\n",
       "      <th>322</th>\n",
       "      <td>1.00</td>\n",
       "    </tr>\n",
       "    <tr>\n",
       "      <th>331</th>\n",
       "      <td>1.00</td>\n",
       "    </tr>\n",
       "    <tr>\n",
       "      <th>180</th>\n",
       "      <td>0.65</td>\n",
       "    </tr>\n",
       "    <tr>\n",
       "      <th>178</th>\n",
       "      <td>0.65</td>\n",
       "    </tr>\n",
       "    <tr>\n",
       "      <th>349</th>\n",
       "      <td>0.65</td>\n",
       "    </tr>\n",
       "    <tr>\n",
       "      <th>674</th>\n",
       "      <td>0.60</td>\n",
       "    </tr>\n",
       "    <tr>\n",
       "      <th>440</th>\n",
       "      <td>0.60</td>\n",
       "    </tr>\n",
       "    <tr>\n",
       "      <th>1116</th>\n",
       "      <td>0.60</td>\n",
       "    </tr>\n",
       "    <tr>\n",
       "      <th>1954</th>\n",
       "      <td>0.55</td>\n",
       "    </tr>\n",
       "    <tr>\n",
       "      <th>173</th>\n",
       "      <td>0.55</td>\n",
       "    </tr>\n",
       "  </tbody>\n",
       "</table>\n",
       "</div>"
      ],
      "text/plain": [
       "      cosine\n",
       "322     1.00\n",
       "331     1.00\n",
       "180     0.65\n",
       "178     0.65\n",
       "349     0.65\n",
       "674     0.60\n",
       "440     0.60\n",
       "1116    0.60\n",
       "1954    0.55\n",
       "173     0.55"
      ]
     },
     "execution_count": 47,
     "metadata": {},
     "output_type": "execute_result"
    }
   ],
   "source": [
    "pd.DataFrame({'cosine':rez.squeeze()}).sort_values('cosine', ascending=False).head(10)"
   ]
  },
  {
   "cell_type": "code",
   "execution_count": 48,
   "metadata": {},
   "outputs": [
    {
     "data": {
      "text/plain": [
       "array(['I', 'V', 'I', 'I', 'E', 'V', 'I', 'V', 'E', 'V', 'I', 'V', 'I',\n",
       "       'NAN', 'NAN', 'V', 'I', 'I', 'NAN', 'NAN'], dtype=object)"
      ]
     },
     "execution_count": 48,
     "metadata": {},
     "output_type": "execute_result"
    }
   ],
   "source": [
    "Y[322]"
   ]
  },
  {
   "cell_type": "code",
   "execution_count": 49,
   "metadata": {},
   "outputs": [
    {
     "data": {
      "text/plain": [
       "array(['I', 'V', 'V', 'I', 'V', 'V', 'I', 'E', 'I', 'I', 'V', 'V', 'E',\n",
       "       'V', 'E', 'I', 'I', 'E', 'E', 'V'], dtype=object)"
      ]
     },
     "execution_count": 49,
     "metadata": {},
     "output_type": "execute_result"
    }
   ],
   "source": [
    "Y[870]"
   ]
  },
  {
   "cell_type": "code",
   "execution_count": 51,
   "metadata": {
    "scrolled": true
   },
   "outputs": [],
   "source": [
    "merged.iloc[322]"
   ]
  },
  {
   "cell_type": "code",
   "execution_count": null,
   "metadata": {},
   "outputs": [],
   "source": [
    "merged.iloc[870]"
   ]
  },
  {
   "cell_type": "code",
   "execution_count": null,
   "metadata": {},
   "outputs": [],
   "source": []
  },
  {
   "cell_type": "code",
   "execution_count": null,
   "metadata": {},
   "outputs": [],
   "source": []
  },
  {
   "cell_type": "markdown",
   "metadata": {},
   "source": [
    "# Computing distance between odds"
   ]
  },
  {
   "cell_type": "code",
   "execution_count": 5,
   "metadata": {},
   "outputs": [],
   "source": [
    "X = merged[['1COTA', 'XCOTA', '2COTA']].fillna(-1).values"
   ]
  },
  {
   "cell_type": "code",
   "execution_count": 6,
   "metadata": {},
   "outputs": [
    {
     "data": {
      "text/plain": [
       "array([[2.2 , 3.5 , 3.2 ],\n",
       "       [3.25, 3.25, 2.3 ],\n",
       "       [2.4 , 3.15, 3.25],\n",
       "       ...,\n",
       "       [4.15, 3.15, 1.9 ],\n",
       "       [4.15, 3.15, 1.9 ],\n",
       "       [4.15, 3.15, 1.9 ]])"
      ]
     },
     "execution_count": 6,
     "metadata": {},
     "output_type": "execute_result"
    }
   ],
   "source": [
    "X"
   ]
  },
  {
   "cell_type": "code",
   "execution_count": 7,
   "metadata": {},
   "outputs": [
    {
     "data": {
      "text/plain": [
       "array([2.3, 3.5, 3. ])"
      ]
     },
     "execution_count": 7,
     "metadata": {},
     "output_type": "execute_result"
    }
   ],
   "source": [
    "X[150]"
   ]
  },
  {
   "cell_type": "code",
   "execution_count": 8,
   "metadata": {},
   "outputs": [],
   "source": [
    "from sklearn.metrics.pairwise import cosine_similarity"
   ]
  },
  {
   "cell_type": "code",
   "execution_count": 9,
   "metadata": {},
   "outputs": [],
   "source": [
    "query = [2.3, 3.5, 3]"
   ]
  },
  {
   "cell_type": "code",
   "execution_count": 10,
   "metadata": {},
   "outputs": [],
   "source": [
    "rez = cosine_similarity(X, [query])"
   ]
  },
  {
   "cell_type": "code",
   "execution_count": 11,
   "metadata": {},
   "outputs": [
    {
     "data": {
      "text/html": [
       "<div>\n",
       "<style scoped>\n",
       "    .dataframe tbody tr th:only-of-type {\n",
       "        vertical-align: middle;\n",
       "    }\n",
       "\n",
       "    .dataframe tbody tr th {\n",
       "        vertical-align: top;\n",
       "    }\n",
       "\n",
       "    .dataframe thead th {\n",
       "        text-align: right;\n",
       "    }\n",
       "</style>\n",
       "<table border=\"1\" class=\"dataframe\">\n",
       "  <thead>\n",
       "    <tr style=\"text-align: right;\">\n",
       "      <th></th>\n",
       "      <th>cosine</th>\n",
       "    </tr>\n",
       "  </thead>\n",
       "  <tbody>\n",
       "    <tr>\n",
       "      <th>2114</th>\n",
       "      <td>1.000000</td>\n",
       "    </tr>\n",
       "    <tr>\n",
       "      <th>238</th>\n",
       "      <td>1.000000</td>\n",
       "    </tr>\n",
       "    <tr>\n",
       "      <th>150</th>\n",
       "      <td>1.000000</td>\n",
       "    </tr>\n",
       "    <tr>\n",
       "      <th>2092</th>\n",
       "      <td>1.000000</td>\n",
       "    </tr>\n",
       "    <tr>\n",
       "      <th>668</th>\n",
       "      <td>0.999991</td>\n",
       "    </tr>\n",
       "    <tr>\n",
       "      <th>...</th>\n",
       "      <td>...</td>\n",
       "    </tr>\n",
       "    <tr>\n",
       "      <th>193</th>\n",
       "      <td>-0.986215</td>\n",
       "    </tr>\n",
       "    <tr>\n",
       "      <th>190</th>\n",
       "      <td>-0.986215</td>\n",
       "    </tr>\n",
       "    <tr>\n",
       "      <th>184</th>\n",
       "      <td>-0.986215</td>\n",
       "    </tr>\n",
       "    <tr>\n",
       "      <th>1761</th>\n",
       "      <td>-0.986215</td>\n",
       "    </tr>\n",
       "    <tr>\n",
       "      <th>186</th>\n",
       "      <td>-0.986215</td>\n",
       "    </tr>\n",
       "  </tbody>\n",
       "</table>\n",
       "<p>2293 rows × 1 columns</p>\n",
       "</div>"
      ],
      "text/plain": [
       "        cosine\n",
       "2114  1.000000\n",
       "238   1.000000\n",
       "150   1.000000\n",
       "2092  1.000000\n",
       "668   0.999991\n",
       "...        ...\n",
       "193  -0.986215\n",
       "190  -0.986215\n",
       "184  -0.986215\n",
       "1761 -0.986215\n",
       "186  -0.986215\n",
       "\n",
       "[2293 rows x 1 columns]"
      ]
     },
     "execution_count": 11,
     "metadata": {},
     "output_type": "execute_result"
    }
   ],
   "source": [
    "pd.DataFrame({'cosine':rez.squeeze()}).sort_values('cosine', ascending=False)"
   ]
  },
  {
   "cell_type": "code",
   "execution_count": 12,
   "metadata": {},
   "outputs": [
    {
     "data": {
      "text/plain": [
       "[2.3, 3.5, 3]"
      ]
     },
     "execution_count": 12,
     "metadata": {},
     "output_type": "execute_result"
    }
   ],
   "source": [
    "query"
   ]
  },
  {
   "cell_type": "code",
   "execution_count": null,
   "metadata": {},
   "outputs": [],
   "source": [
    "X[1761]"
   ]
  },
  {
   "cell_type": "code",
   "execution_count": null,
   "metadata": {},
   "outputs": [],
   "source": [
    "merged.iloc[150]"
   ]
  },
  {
   "cell_type": "code",
   "execution_count": null,
   "metadata": {},
   "outputs": [],
   "source": [
    "merged.iloc[243]"
   ]
  },
  {
   "cell_type": "code",
   "execution_count": null,
   "metadata": {},
   "outputs": [],
   "source": []
  }
 ],
 "metadata": {
  "kernelspec": {
   "display_name": "Python 3",
   "language": "python",
   "name": "python3"
  },
  "language_info": {
   "codemirror_mode": {
    "name": "ipython",
    "version": 3
   },
   "file_extension": ".py",
   "mimetype": "text/x-python",
   "name": "python",
   "nbconvert_exporter": "python",
   "pygments_lexer": "ipython3",
   "version": "3.9.2"
  }
 },
 "nbformat": 4,
 "nbformat_minor": 4
}
