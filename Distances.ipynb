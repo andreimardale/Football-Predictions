{
 "cells": [
  {
   "cell_type": "code",
   "execution_count": 174,
   "id": "77d9e9aa",
   "metadata": {},
   "outputs": [],
   "source": [
    "import pandas as pd\n",
    "import numpy as np\n",
    "\n",
    "from sklearn.preprocessing import LabelEncoder\n",
    "from sklearn.preprocessing import OneHotEncoder\n",
    "from sklearn.metrics.pairwise import cosine_similarity\n",
    "\n",
    "import ipywidgets as widgets\n",
    "from ipywidgets import interact\n",
    "\n",
    "pd.set_option('display.max_rows', 500)\n",
    "pd.set_option('display.max_columns', 500)\n",
    "pd.set_option('display.width', 1000)"
   ]
  },
  {
   "cell_type": "code",
   "execution_count": 3,
   "id": "f0df1f24",
   "metadata": {},
   "outputs": [],
   "source": [
    "data = pd.read_csv('prep_data_input.csv')"
   ]
  },
  {
   "cell_type": "code",
   "execution_count": 4,
   "id": "01088e8b",
   "metadata": {},
   "outputs": [],
   "source": [
    "Y = data[[\n",
    "    'G_U1_TOTAL', 'G_U2_TOTAL', 'G_U3_TOTAL', 'G_U4_TOTAL', 'G_U5_TOTAL',\n",
    "    'O_U1_TOTAL', 'O_U2_TOTAL', 'O_U3_TOTAL', 'O_U4_TOTAL', 'O_U5_TOTAL',\n",
    "    'G_U1_ACASA', 'G_U2_ACASA', 'G_U3_ACASA', 'G_U4_ACASA', 'G_U5_ACASA',\n",
    "    'O_U1_DEPL', 'O_U2_DEPL', 'O_U3_DEPL', 'O_U4_DEPL', 'O_U5_DEPL']].fillna('NAN').values\n",
    "\n",
    "Y_arr = pd.DataFrame(Y.reshape(-1), columns=['result'])\n",
    "\n",
    "Y_arr = Y_arr.replace('ABANDON', 'AB')\n",
    "\n",
    "# creating instance of labelencoder\n",
    "labelencoder = LabelEncoder()\n",
    "# Assigning numerical values and storing in another column\n",
    "Y_arr['result_Cat'] = labelencoder.fit_transform(Y_arr['result'])\n",
    "\n",
    "\n",
    "\n",
    "# creating instance of one-hot-encoder\n",
    "enc = OneHotEncoder(handle_unknown='ignore')\n",
    "# passing bridge-types-cat column (label encoded values of bridge_types)\n",
    "enc_df = pd.DataFrame(enc.fit_transform(Y_arr[['result_Cat']]).toarray())\n",
    "# merge with main df bridge_df on key values\n",
    "Y_arr = Y_arr.join(enc_df)\n"
   ]
  },
  {
   "cell_type": "code",
   "execution_count": 5,
   "id": "e3c5d09e",
   "metadata": {},
   "outputs": [],
   "source": [
    "Y_oh_encoded = enc_df.values.reshape((Y.shape[0],Y.shape[1] * 5))"
   ]
  },
  {
   "cell_type": "code",
   "execution_count": 7,
   "id": "b3173dcc",
   "metadata": {},
   "outputs": [],
   "source": [
    "#q = Y_oh_encoded[322]"
   ]
  },
  {
   "cell_type": "code",
   "execution_count": 8,
   "id": "3a13a28c",
   "metadata": {},
   "outputs": [],
   "source": [
    "#rez = cosine_similarity(Y_oh_encoded, [q])"
   ]
  },
  {
   "cell_type": "code",
   "execution_count": null,
   "id": "fca29e03",
   "metadata": {},
   "outputs": [],
   "source": [
    "#pd.DataFrame({'cosine':rez.squeeze()}).sort_values('cosine', ascending=False).head(10)"
   ]
  },
  {
   "cell_type": "code",
   "execution_count": 192,
   "id": "627e2965",
   "metadata": {},
   "outputs": [
    {
     "data": {
      "application/vnd.jupyter.widget-view+json": {
       "model_id": "32f51042daf048489e33ab0a31bf421c",
       "version_major": 2,
       "version_minor": 0
      },
      "text/plain": [
       "VBox(children=(HBox(children=(Dropdown(description='G_U1_TOTAL:', index=1, options=('I', 'E', 'V'), value='E')…"
      ]
     },
     "metadata": {},
     "output_type": "display_data"
    },
    {
     "data": {
      "application/vnd.jupyter.widget-view+json": {
       "model_id": "81b047c3d1bc4f9687332f03d2308cb2",
       "version_major": 2,
       "version_minor": 0
      },
      "text/plain": [
       "Output()"
      ]
     },
     "metadata": {},
     "output_type": "display_data"
    }
   ],
   "source": [
    "a1 = widgets.Dropdown(\n",
    "    options=['I', 'E', 'V'],\n",
    "    value='E',\n",
    "    description='G_U1_TOTAL:',\n",
    "    disabled=False,\n",
    ")\n",
    "a2 = widgets.Dropdown(\n",
    "    options=['I', 'E', 'V'],\n",
    "    value='E',\n",
    "    description='G_U2_TOTAL:',\n",
    "    disabled=False,\n",
    ")\n",
    "a3 = widgets.Dropdown(\n",
    "    options=['I', 'E', 'V'],\n",
    "    value='E',\n",
    "    description='G_U3_TOTAL:',\n",
    "    disabled=False,\n",
    ")\n",
    "a4 = widgets.Dropdown(\n",
    "    options=['I', 'E', 'V'],\n",
    "    value='E',\n",
    "    description='G_U4_TOTAL:',\n",
    "    disabled=False,\n",
    ")\n",
    "a5 = widgets.Dropdown(\n",
    "    options=['I', 'E', 'V'],\n",
    "    value='E',\n",
    "    description='G_U5_TOTAL:',\n",
    "    disabled=False,\n",
    ")\n",
    "\n",
    "#================================\n",
    "\n",
    "b1 = widgets.Dropdown(\n",
    "    options=['I', 'E', 'V'],\n",
    "    value='E',\n",
    "    description='O_U1_TOTAL:',\n",
    "    disabled=False,\n",
    ")\n",
    "b2 = widgets.Dropdown(\n",
    "    options=['I', 'E', 'V'],\n",
    "    value='E',\n",
    "    description='O_U2_TOTAL:',\n",
    "    disabled=False,\n",
    ")\n",
    "b3 = widgets.Dropdown(\n",
    "    options=['I', 'E', 'V'],\n",
    "    value='E',\n",
    "    description='O_U3_TOTAL:',\n",
    "    disabled=False,\n",
    ")\n",
    "b4 = widgets.Dropdown(\n",
    "    options=['I', 'E', 'V'],\n",
    "    value='E',\n",
    "    description='O_U4_TOTAL:',\n",
    "    disabled=False,\n",
    ")\n",
    "b5 = widgets.Dropdown(\n",
    "    options=['I', 'E', 'V'],\n",
    "    value='E',\n",
    "    description='O_U5_TOTAL:',\n",
    "    disabled=False,\n",
    ")\n",
    "#================================\n",
    "\n",
    "c1 = widgets.Dropdown(\n",
    "    options=['I', 'E', 'V'],\n",
    "    value='E',\n",
    "    description='G_U1_ACASA:',\n",
    "    disabled=False,\n",
    ")\n",
    "c2 = widgets.Dropdown(\n",
    "    options=['I', 'E', 'V'],\n",
    "    value='E',\n",
    "    description='G_U2_ACASA:',\n",
    "    disabled=False,\n",
    ")\n",
    "c3 = widgets.Dropdown(\n",
    "    options=['I', 'E', 'V'],\n",
    "    value='E',\n",
    "    description='G_U3_ACASA:',\n",
    "    disabled=False,\n",
    ")\n",
    "c4 = widgets.Dropdown(\n",
    "    options=['I', 'E', 'V'],\n",
    "    value='E',\n",
    "    description='G_U4_ACASA:',\n",
    "    disabled=False,\n",
    ")\n",
    "c5 = widgets.Dropdown(\n",
    "    options=['I', 'E', 'V'],\n",
    "    value='E',\n",
    "    description='G_U5_ACASA:',\n",
    "    disabled=False,\n",
    ")\n",
    "#================================\n",
    "\n",
    "d1 = widgets.Dropdown(\n",
    "    options=['I', 'E', 'V'],\n",
    "    value='E',\n",
    "    description='O_U1_DEPL:',\n",
    "    disabled=False,\n",
    ")\n",
    "d2 = widgets.Dropdown(\n",
    "    options=['I', 'E', 'V'],\n",
    "    value='E',\n",
    "    description='O_U2_DEPL:',\n",
    "    disabled=False,\n",
    ")\n",
    "d3 = widgets.Dropdown(\n",
    "    options=['I', 'E', 'V'],\n",
    "    value='E',\n",
    "    description='O_U3_DEPL:',\n",
    "    disabled=False,\n",
    ")\n",
    "d4 = widgets.Dropdown(\n",
    "    options=['I', 'E', 'V'],\n",
    "    value='E',\n",
    "    description='O_U4_DEPL:',\n",
    "    disabled=False,\n",
    ")\n",
    "d5 = widgets.Dropdown(\n",
    "    options=['I', 'E', 'V'],\n",
    "    value='E',\n",
    "    description='O_U5_DEPL:',\n",
    "    disabled=False,\n",
    ")\n",
    "#================================\n",
    "cota1 = widgets.FloatText(\n",
    "    value=1.5,\n",
    "    description='1COTA:',\n",
    "    disabled=False\n",
    ")\n",
    "cota2 = widgets.FloatText(\n",
    "    value=2.5,\n",
    "    description='XCOTA:',\n",
    "    disabled=False\n",
    ")\n",
    "cota3 = widgets.FloatText(\n",
    "    value=3.5,\n",
    "    description='2COTA:',\n",
    "    disabled=False\n",
    ")\n",
    "\n",
    "\n",
    "\n",
    "ui = widgets.VBox([widgets.HBox([a1, a2, a3, a4, a5]),\n",
    "                   widgets.HBox([b1, b2, b3, b4, b5]),\n",
    "                   widgets.HBox([c1, c2, c3, c4, c5]),\n",
    "                   widgets.HBox([d1, d2, d3, d4, d5]),\n",
    "                   widgets.HBox([cota1, cota2, cota3]),\n",
    "                   ])\n",
    "\n",
    "def f(a1, a2, a3, a4, a5, b1, b2, b3, b4, b5, c1, c2, c3, c4, c5, d1, d2, d3, d4, d5, cota1, cota2, cota3):\n",
    "    l = np.array([a1, a2, a3, a4, a5, b1, b2, b3, b4, b5, c1, c2, c3, c4, c5, d1, d2, d3, d4, d5])\n",
    "    query = pd.DataFrame(l.reshape(-1), columns=['result']).values.ravel()\n",
    "    query_cat = labelencoder.transform(query).reshape(-1, 1)\n",
    "    \n",
    "    query_cat = pd.DataFrame(enc.transform(query_cat).toarray()).values.reshape(1, 100)\n",
    "    \n",
    "    rez = cosine_similarity(Y_oh_encoded, query_cat)\n",
    "    rez = pd.DataFrame({'similaritate_istoric':rez.squeeze()}).sort_values('similaritate_istoric', ascending=False)\n",
    "    rez = rez.reset_index()\n",
    "    \n",
    "\n",
    "    query_cota = np.array([cota1, cota2, cota3])\n",
    "    rez_cota = cosine_similarity(data[['1COTA', 'XCOTA', '2COTA']].fillna(0).values, [query_cota])\n",
    "    rez_cota = pd.DataFrame({'similaritate_cota':rez_cota.squeeze()}).sort_values('similaritate_cota', ascending=False)\n",
    "    rez_cota = rez_cota.reset_index()\n",
    "\n",
    "    \n",
    "    final_rez = rez.merge(rez_cota, how='inner', on='index')\n",
    "    final_rez['similaritate_combinata'] = 0.5 * final_rez['similaritate_istoric'] + 0.5 * final_rez['similaritate_cota']\n",
    "    final_rez = final_rez.sort_values('similaritate_combinata', ascending=False).head(10)\n",
    "    display(final_rez)\n",
    "    \n",
    "    \n",
    "    \n",
    "    print(\"_\"*60)\n",
    "    display(pd.DataFrame(data.iloc[final_rez.iloc[0,0]]).T)\n",
    "    display(pd.DataFrame(data.iloc[final_rez.iloc[1,0]]).T)\n",
    "    display(pd.DataFrame(data.iloc[final_rez.iloc[2,0]]).T)\n",
    "    \n",
    "    \n",
    "\n",
    "out = widgets.interactive_output(f, {\n",
    "    'a1':a1, 'a2':a2,'a3':a3,'a4':a4,'a5':a5, \n",
    "    'b1':b1, 'b2':b2,'b3':b3,'b4':b4,'b5':b5, \n",
    "    'c1':c1, 'c2':c2,'c3':c3,'c4':c4,'c5':c5, \n",
    "    'd1':d1, 'd2':d2,'d3':d3,'d4':d4,'d5':d5, \n",
    "    'cota1':cota1, 'cota2':cota2, 'cota3':cota3\n",
    "    \n",
    "})\n",
    "\n",
    "display(ui, out)"
   ]
  },
  {
   "cell_type": "code",
   "execution_count": 172,
   "id": "5d864d5c",
   "metadata": {},
   "outputs": [],
   "source": [
    "def g(x):\n",
    "    if x == '':\n",
    "        return\n",
    "    \n",
    "    display(pd.DataFrame(data.iloc[int(x)]))\n"
   ]
  },
  {
   "cell_type": "code",
   "execution_count": 173,
   "id": "6eb1b0a6",
   "metadata": {},
   "outputs": [
    {
     "data": {
      "application/vnd.jupyter.widget-view+json": {
       "model_id": "edebf78abb834f82a12657b193ebd3d0",
       "version_major": 2,
       "version_minor": 0
      },
      "text/plain": [
       "interactive(children=(Text(value='1', description='x'), Output()), _dom_classes=('widget-interact',))"
      ]
     },
     "metadata": {},
     "output_type": "display_data"
    }
   ],
   "source": [
    "b = interact(g, x='1');"
   ]
  },
  {
   "cell_type": "code",
   "execution_count": null,
   "id": "dca7cf91",
   "metadata": {},
   "outputs": [],
   "source": []
  }
 ],
 "metadata": {
  "kernelspec": {
   "display_name": "Python 3",
   "language": "python",
   "name": "python3"
  },
  "language_info": {
   "codemirror_mode": {
    "name": "ipython",
    "version": 3
   },
   "file_extension": ".py",
   "mimetype": "text/x-python",
   "name": "python",
   "nbconvert_exporter": "python",
   "pygments_lexer": "ipython3",
   "version": "3.9.2"
  }
 },
 "nbformat": 4,
 "nbformat_minor": 5
}
